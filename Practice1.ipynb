{
 "cells": [
  {
   "cell_type": "markdown",
   "id": "965e5dd3-70c8-4c02-95e8-fffd9bae1f56",
   "metadata": {},
   "source": [
    "## Question 1:Count the number of perfect square numbers in a given range, range is take as input from user"
   ]
  },
  {
   "cell_type": "code",
   "execution_count": 1,
   "id": "4dfecb94-d18f-425d-b92f-4b677b99f415",
   "metadata": {},
   "outputs": [
    {
     "name": "stdin",
     "output_type": "stream",
     "text": [
      "From:  4\n",
      "To:  16\n"
     ]
    },
    {
     "name": "stdout",
     "output_type": "stream",
     "text": [
      "Total number of perfect squares in the range =  3\n"
     ]
    }
   ],
   "source": [
    "s=int(input(\"From: \"))\n",
    "e=int(input(\"To: \"))\n",
    "c=0\n",
    "for i in range(s,e+1):\n",
    "    p=int(i**0.5)\n",
    "    if p*p==i:\n",
    "        c=c+1\n",
    "\n",
    "print(\"Total number of perfect squares in the range = \",c)"
   ]
  },
  {
   "cell_type": "markdown",
   "id": "53bd8355-8216-4ae1-b0f2-123635d7c48d",
   "metadata": {},
   "source": [
    "## Question 2: Write a python program to generate the following pattern"
   ]
  },
  {
   "cell_type": "code",
   "execution_count": 3,
   "id": "99b96298-4a32-40ff-87c2-fa81fe3ede39",
   "metadata": {},
   "outputs": [
    {
     "name": "stdout",
     "output_type": "stream",
     "text": [
      "*\n",
      "**\n",
      "***\n",
      "****\n",
      "*****\n",
      "****\n",
      "***\n",
      "**\n",
      "*\n"
     ]
    }
   ],
   "source": [
    "i=1\n",
    "while i<=5:\n",
    "    j=1\n",
    "    while j<=i:\n",
    "        print('*',end='')\n",
    "        j=j+1\n",
    "    print()\n",
    "    i=i+1\n",
    "i=4\n",
    "while i>=1:\n",
    "    j=1\n",
    "    while j<=i:\n",
    "        print('*',end='')\n",
    "        j=j+1\n",
    "    print()\n",
    "    i=i-1"
   ]
  },
  {
   "cell_type": "markdown",
   "id": "a4f627a3-9cd1-4b73-8e5b-3fdd494eb2d6",
   "metadata": {},
   "source": [
    "## Question 3:Take a number as input from user and display whether it is prime or not"
   ]
  },
  {
   "cell_type": "code",
   "execution_count": 9,
   "id": "7685f2da-5c3f-4859-8d66-38042e2b02ce",
   "metadata": {},
   "outputs": [
    {
     "name": "stdin",
     "output_type": "stream",
     "text": [
      "Enter a number:  91\n"
     ]
    },
    {
     "name": "stdout",
     "output_type": "stream",
     "text": [
      "Number is not Prime\n"
     ]
    }
   ],
   "source": [
    "n=int(input(\"Enter a number: \"))\n",
    "c=0\n",
    "for i in range(2,n):\n",
    "    if n%i==0:\n",
    "        c=c+1\n",
    "\n",
    "if c>0:\n",
    "    print(\"Number is not Prime\")\n",
    "else:\n",
    "    print(\"Number is Prime\")"
   ]
  },
  {
   "cell_type": "code",
   "execution_count": null,
   "id": "497b6ed8-ba28-4bb7-ade5-23ff4580ff35",
   "metadata": {},
   "outputs": [],
   "source": []
  }
 ],
 "metadata": {
  "kernelspec": {
   "display_name": "Python 3 (ipykernel)",
   "language": "python",
   "name": "python3"
  },
  "language_info": {
   "codemirror_mode": {
    "name": "ipython",
    "version": 3
   },
   "file_extension": ".py",
   "mimetype": "text/x-python",
   "name": "python",
   "nbconvert_exporter": "python",
   "pygments_lexer": "ipython3",
   "version": "3.11.7"
  }
 },
 "nbformat": 4,
 "nbformat_minor": 5
}
