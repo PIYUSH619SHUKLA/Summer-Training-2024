{
 "cells": [
  {
   "cell_type": "code",
   "execution_count": 8,
   "id": "f92099f6-9baa-49f1-b1c8-4a3823018885",
   "metadata": {},
   "outputs": [
    {
     "name": "stdout",
     "output_type": "stream",
     "text": [
      "I challenge you to guess the number that I have selected from the range\n",
      "Are you ready because its time to play the game\n",
      "-----------------------------------------------------------------------------------\n",
      "\n",
      "\n"
     ]
    },
    {
     "name": "stdin",
     "output_type": "stream",
     "text": [
      "Enter the upper bound of your choice(remember it will be exclusive from the range):  15\n",
      "Your Prediction:  7\n"
     ]
    },
    {
     "name": "stdout",
     "output_type": "stream",
     "text": [
      "You predicted number is less than my selected number, so try going up\n"
     ]
    },
    {
     "name": "stdin",
     "output_type": "stream",
     "text": [
      "Your Prediction:  9\n"
     ]
    },
    {
     "name": "stdout",
     "output_type": "stream",
     "text": [
      "You predicted number is less than my selected number, so try going up\n"
     ]
    },
    {
     "name": "stdin",
     "output_type": "stream",
     "text": [
      "Your Prediction:  11\n"
     ]
    },
    {
     "name": "stdout",
     "output_type": "stream",
     "text": [
      "Congrats!!! You got it\n",
      "Number of attempts you took =  3\n"
     ]
    }
   ],
   "source": [
    "import random\n",
    "\n",
    "\n",
    "print(\"I challenge you to guess the number that I have selected from the range\")\n",
    "print(\"Are you ready because its time to play the game\")\n",
    "print(\"-----------------------------------------------------------------------------------\")\n",
    "print(\"\\n\")\n",
    "    \n",
    "attempt=0\n",
    "UpperBound=int(input(\"Enter the upper bound of your choice(remember it will be exclusive from the range): \"))\n",
    "My_selection=random.randrange(1,UpperBound)\n",
    "\n",
    "\n",
    "\n",
    "\n",
    "while True:\n",
    "\n",
    "    Predict=int(input(\"Your Prediction: \"))\n",
    "    attempt=attempt+1\n",
    "\n",
    "    if Predict>My_selection:\n",
    "        print(\"You predicted number is more than my selected number, so try going down\")\n",
    "\n",
    "    elif Predict<My_selection:\n",
    "        print(\"You predicted number is less than my selected number, so try going up\")\n",
    "\n",
    "    else:\n",
    "        print(\"Congrats!!! You got it\")\n",
    "        print(\"Number of attempts you took = \",attempt)\n",
    "        break\n",
    "        \n",
    "\n",
    "    \n",
    "\n",
    "\n",
    "\n",
    "        "
   ]
  },
  {
   "cell_type": "code",
   "execution_count": null,
   "id": "a936a807-1ca4-4f0f-bd47-8112bc84903c",
   "metadata": {},
   "outputs": [],
   "source": []
  }
 ],
 "metadata": {
  "kernelspec": {
   "display_name": "Python 3 (ipykernel)",
   "language": "python",
   "name": "python3"
  },
  "language_info": {
   "codemirror_mode": {
    "name": "ipython",
    "version": 3
   },
   "file_extension": ".py",
   "mimetype": "text/x-python",
   "name": "python",
   "nbconvert_exporter": "python",
   "pygments_lexer": "ipython3",
   "version": "3.11.7"
  }
 },
 "nbformat": 4,
 "nbformat_minor": 5
}
